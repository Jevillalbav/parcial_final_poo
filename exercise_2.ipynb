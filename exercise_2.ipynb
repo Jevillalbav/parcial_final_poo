{
 "cells": [
  {
   "cell_type": "markdown",
   "metadata": {},
   "source": [
    "# Ejercicio 2 analisis de datos"
   ]
  },
  {
   "cell_type": "code",
   "execution_count": 41,
   "metadata": {},
   "outputs": [],
   "source": [
    "# Importo librerias\n",
    "import numpy as np\n",
    "import pandas as pd\n",
    "import plotly.express as px\n",
    "import plotly.graph_objects as go"
   ]
  },
  {
   "cell_type": "code",
   "execution_count": 61,
   "metadata": {},
   "outputs": [],
   "source": [
    "import pandas as pd\n",
    "\n",
    "# URL del archivo en tu repositorio de GitHub\n",
    "url = \"https://raw.githubusercontent.com/Jevillalbav/parcial_final_poo/main/airlines_reviews.csv\"\n",
    "\n",
    "# Leer el archivo directamente usando pandas\n",
    "df = pd.read_csv(url)\n",
    "df.columns = [i.replace(' ', '_').lower() for i in df.columns]"
   ]
  },
  {
   "cell_type": "markdown",
   "metadata": {},
   "source": [
    "-------------------"
   ]
  },
  {
   "cell_type": "markdown",
   "metadata": {},
   "source": [
    "Se sugiere que antes de comenzar con el análisis se lea cada una de las descripciones de\n",
    "las columnas para tener un contexto general de los datos.\n",
    "\n",
    "Primero, se requiere poder dar respuesta a lo siguiente:\n",
    "\n",
    "    a. ¿Cuántos comentarios se encuentran verificados?\n",
    "    b. ¿Cuál es el rango de fechas de los vuelos que se registran en el dataset?\n",
    "    c. ¿Cuáles aerolíneas registran por lo menos un comentario?\n",
    "    d. ¿Cuál es el promedio de comentarios de cada aerolínea por año?\n"
   ]
  },
  {
   "cell_type": "code",
   "execution_count": 60,
   "metadata": {},
   "outputs": [
    {
     "name": "stdout",
     "output_type": "stream",
     "text": [
      "<class 'pandas.core.frame.DataFrame'>\n",
      "RangeIndex: 8100 entries, 0 to 8099\n",
      "Data columns (total 17 columns):\n",
      " #   Column                  Non-Null Count  Dtype \n",
      "---  ------                  --------------  ----- \n",
      " 0   title                   8100 non-null   object\n",
      " 1   name                    8100 non-null   object\n",
      " 2   review_date             8100 non-null   object\n",
      " 3   airline                 8100 non-null   object\n",
      " 4   verified                8100 non-null   int64 \n",
      " 5   reviews                 8100 non-null   object\n",
      " 6   type_of_traveller       8100 non-null   object\n",
      " 7   month_flown             8100 non-null   object\n",
      " 8   route                   8100 non-null   object\n",
      " 9   class                   8100 non-null   object\n",
      " 10  seat_comfort            8100 non-null   int64 \n",
      " 11  staff_service           8100 non-null   int64 \n",
      " 12  food_&_beverages        8100 non-null   int64 \n",
      " 13  inflight_entertainment  8100 non-null   int64 \n",
      " 14  value_for_money         8100 non-null   int64 \n",
      " 15  overall_rating          8100 non-null   int64 \n",
      " 16  recommended             8100 non-null   object\n",
      "dtypes: int64(7), object(10)\n",
      "memory usage: 1.1+ MB\n",
      "None\n"
     ]
    }
   ],
   "source": [
    "print(df.info())"
   ]
  },
  {
   "cell_type": "code",
   "execution_count": 62,
   "metadata": {},
   "outputs": [
    {
     "data": {
      "text/plain": [
       "title                     0\n",
       "name                      0\n",
       "review_date               0\n",
       "airline                   0\n",
       "verified                  0\n",
       "reviews                   0\n",
       "type_of_traveller         0\n",
       "month_flown               0\n",
       "route                     0\n",
       "class                     0\n",
       "seat_comfort              0\n",
       "staff_service             0\n",
       "food_&_beverages          0\n",
       "inflight_entertainment    0\n",
       "value_for_money           0\n",
       "overall_rating            0\n",
       "recommended               0\n",
       "dtype: int64"
      ]
     },
     "execution_count": 62,
     "metadata": {},
     "output_type": "execute_result"
    }
   ],
   "source": [
    "df.isna().sum()"
   ]
  },
  {
   "cell_type": "code",
   "execution_count": 63,
   "metadata": {},
   "outputs": [
    {
     "data": {
      "text/html": [
       "<div>\n",
       "<style scoped>\n",
       "    .dataframe tbody tr th:only-of-type {\n",
       "        vertical-align: middle;\n",
       "    }\n",
       "\n",
       "    .dataframe tbody tr th {\n",
       "        vertical-align: top;\n",
       "    }\n",
       "\n",
       "    .dataframe thead th {\n",
       "        text-align: right;\n",
       "    }\n",
       "</style>\n",
       "<table border=\"1\" class=\"dataframe\">\n",
       "  <thead>\n",
       "    <tr style=\"text-align: right;\">\n",
       "      <th></th>\n",
       "      <th>6676</th>\n",
       "      <th>1901</th>\n",
       "      <th>3596</th>\n",
       "      <th>7547</th>\n",
       "      <th>4545</th>\n",
       "      <th>1332</th>\n",
       "      <th>4617</th>\n",
       "    </tr>\n",
       "  </thead>\n",
       "  <tbody>\n",
       "    <tr>\n",
       "      <th>title</th>\n",
       "      <td>avoid Air France in the future</td>\n",
       "      <td>update the wrong Qmiles</td>\n",
       "      <td>they ignore your request</td>\n",
       "      <td>not overly impressed with CX</td>\n",
       "      <td>refuses to adhere to its obligations</td>\n",
       "      <td>rest of our journey stress free</td>\n",
       "      <td>No compensation, no hotel</td>\n",
       "    </tr>\n",
       "    <tr>\n",
       "      <th>name</th>\n",
       "      <td>J Darson</td>\n",
       "      <td>Ayub Mohamed</td>\n",
       "      <td>Kenghua Tai</td>\n",
       "      <td>Martin Hill</td>\n",
       "      <td>D Dupont</td>\n",
       "      <td>E Warden</td>\n",
       "      <td>E Mary</td>\n",
       "    </tr>\n",
       "    <tr>\n",
       "      <th>review_date</th>\n",
       "      <td>2018-02-16</td>\n",
       "      <td>2019-05-02</td>\n",
       "      <td>2018-08-23</td>\n",
       "      <td>2016-11-24</td>\n",
       "      <td>2023-08-30</td>\n",
       "      <td>2022-07-24</td>\n",
       "      <td>2023-05-04</td>\n",
       "    </tr>\n",
       "    <tr>\n",
       "      <th>airline</th>\n",
       "      <td>Air France</td>\n",
       "      <td>Qatar Airways</td>\n",
       "      <td>Emirates</td>\n",
       "      <td>Cathay Pacific Airways</td>\n",
       "      <td>Turkish Airlines</td>\n",
       "      <td>Qatar Airways</td>\n",
       "      <td>Turkish Airlines</td>\n",
       "    </tr>\n",
       "    <tr>\n",
       "      <th>verified</th>\n",
       "      <td>True</td>\n",
       "      <td>True</td>\n",
       "      <td>True</td>\n",
       "      <td>True</td>\n",
       "      <td>True</td>\n",
       "      <td>True</td>\n",
       "      <td>False</td>\n",
       "    </tr>\n",
       "    <tr>\n",
       "      <th>reviews</th>\n",
       "      <td>Moscow to London via Paris. I was less than ...</td>\n",
       "      <td>Birmingham to Doha. Qatar Airways is the bes...</td>\n",
       "      <td>Bahrain to Singapore via Dubai. Almost misse...</td>\n",
       "      <td>London to Brisbane via Hong Kong. Not overly...</td>\n",
       "      <td>Departure in Brussels was delayed, something ...</td>\n",
       "      <td>We encountered a problem with the booking of...</td>\n",
       "      <td>The worst experience ever! I got to know that...</td>\n",
       "    </tr>\n",
       "    <tr>\n",
       "      <th>type_of_traveller</th>\n",
       "      <td>Solo Leisure</td>\n",
       "      <td>Family Leisure</td>\n",
       "      <td>Solo Leisure</td>\n",
       "      <td>Solo Leisure</td>\n",
       "      <td>Business</td>\n",
       "      <td>Family Leisure</td>\n",
       "      <td>Business</td>\n",
       "    </tr>\n",
       "    <tr>\n",
       "      <th>month_flown</th>\n",
       "      <td>February 2018</td>\n",
       "      <td>April 2019</td>\n",
       "      <td>August 2018</td>\n",
       "      <td>November 2016</td>\n",
       "      <td>August 2023</td>\n",
       "      <td>July 2022</td>\n",
       "      <td>May 2023</td>\n",
       "    </tr>\n",
       "    <tr>\n",
       "      <th>route</th>\n",
       "      <td>Lisbon to Washington via Paris</td>\n",
       "      <td>Stockholm to Singapore via Doha</td>\n",
       "      <td>Amsterdam to Male via Dubai</td>\n",
       "      <td>LHR to BNE via HKG</td>\n",
       "      <td>Vienna to Jakarta via Istanbul</td>\n",
       "      <td>London to Doha</td>\n",
       "      <td>Dallas Fort-Worth to Naples via Istanbul</td>\n",
       "    </tr>\n",
       "    <tr>\n",
       "      <th>class</th>\n",
       "      <td>Economy Class</td>\n",
       "      <td>Economy Class</td>\n",
       "      <td>Economy Class</td>\n",
       "      <td>Economy Class</td>\n",
       "      <td>Business Class</td>\n",
       "      <td>Economy Class</td>\n",
       "      <td>Business Class</td>\n",
       "    </tr>\n",
       "    <tr>\n",
       "      <th>seat_comfort</th>\n",
       "      <td>3</td>\n",
       "      <td>2</td>\n",
       "      <td>5</td>\n",
       "      <td>4</td>\n",
       "      <td>3</td>\n",
       "      <td>4</td>\n",
       "      <td>2</td>\n",
       "    </tr>\n",
       "    <tr>\n",
       "      <th>staff_service</th>\n",
       "      <td>2</td>\n",
       "      <td>5</td>\n",
       "      <td>5</td>\n",
       "      <td>4</td>\n",
       "      <td>1</td>\n",
       "      <td>3</td>\n",
       "      <td>1</td>\n",
       "    </tr>\n",
       "    <tr>\n",
       "      <th>food_&amp;_beverages</th>\n",
       "      <td>5</td>\n",
       "      <td>3</td>\n",
       "      <td>4</td>\n",
       "      <td>4</td>\n",
       "      <td>5</td>\n",
       "      <td>5</td>\n",
       "      <td>1</td>\n",
       "    </tr>\n",
       "    <tr>\n",
       "      <th>inflight_entertainment</th>\n",
       "      <td>4</td>\n",
       "      <td>3</td>\n",
       "      <td>5</td>\n",
       "      <td>4</td>\n",
       "      <td>2</td>\n",
       "      <td>5</td>\n",
       "      <td>2</td>\n",
       "    </tr>\n",
       "    <tr>\n",
       "      <th>value_for_money</th>\n",
       "      <td>4</td>\n",
       "      <td>3</td>\n",
       "      <td>2</td>\n",
       "      <td>2</td>\n",
       "      <td>2</td>\n",
       "      <td>5</td>\n",
       "      <td>1</td>\n",
       "    </tr>\n",
       "    <tr>\n",
       "      <th>overall_rating</th>\n",
       "      <td>3</td>\n",
       "      <td>7</td>\n",
       "      <td>4</td>\n",
       "      <td>2</td>\n",
       "      <td>2</td>\n",
       "      <td>10</td>\n",
       "      <td>1</td>\n",
       "    </tr>\n",
       "    <tr>\n",
       "      <th>recommended</th>\n",
       "      <td>no</td>\n",
       "      <td>yes</td>\n",
       "      <td>no</td>\n",
       "      <td>no</td>\n",
       "      <td>no</td>\n",
       "      <td>yes</td>\n",
       "      <td>no</td>\n",
       "    </tr>\n",
       "  </tbody>\n",
       "</table>\n",
       "</div>"
      ],
      "text/plain": [
       "                                                                     6676  \\\n",
       "title                                      avoid Air France in the future   \n",
       "name                                                             J Darson   \n",
       "review_date                                                    2018-02-16   \n",
       "airline                                                        Air France   \n",
       "verified                                                             True   \n",
       "reviews                   Moscow to London via Paris. I was less than ...   \n",
       "type_of_traveller                                            Solo Leisure   \n",
       "month_flown                                                 February 2018   \n",
       "route                                      Lisbon to Washington via Paris   \n",
       "class                                                       Economy Class   \n",
       "seat_comfort                                                            3   \n",
       "staff_service                                                           2   \n",
       "food_&_beverages                                                        5   \n",
       "inflight_entertainment                                                  4   \n",
       "value_for_money                                                         4   \n",
       "overall_rating                                                          3   \n",
       "recommended                                                            no   \n",
       "\n",
       "                                                                     1901  \\\n",
       "title                                             update the wrong Qmiles   \n",
       "name                                                         Ayub Mohamed   \n",
       "review_date                                                    2019-05-02   \n",
       "airline                                                     Qatar Airways   \n",
       "verified                                                             True   \n",
       "reviews                   Birmingham to Doha. Qatar Airways is the bes...   \n",
       "type_of_traveller                                          Family Leisure   \n",
       "month_flown                                                    April 2019   \n",
       "route                                     Stockholm to Singapore via Doha   \n",
       "class                                                       Economy Class   \n",
       "seat_comfort                                                            2   \n",
       "staff_service                                                           5   \n",
       "food_&_beverages                                                        3   \n",
       "inflight_entertainment                                                  3   \n",
       "value_for_money                                                         3   \n",
       "overall_rating                                                          7   \n",
       "recommended                                                           yes   \n",
       "\n",
       "                                                                     3596  \\\n",
       "title                                            they ignore your request   \n",
       "name                                                          Kenghua Tai   \n",
       "review_date                                                    2018-08-23   \n",
       "airline                                                          Emirates   \n",
       "verified                                                             True   \n",
       "reviews                   Bahrain to Singapore via Dubai. Almost misse...   \n",
       "type_of_traveller                                            Solo Leisure   \n",
       "month_flown                                                   August 2018   \n",
       "route                                         Amsterdam to Male via Dubai   \n",
       "class                                                       Economy Class   \n",
       "seat_comfort                                                            5   \n",
       "staff_service                                                           5   \n",
       "food_&_beverages                                                        4   \n",
       "inflight_entertainment                                                  5   \n",
       "value_for_money                                                         2   \n",
       "overall_rating                                                          4   \n",
       "recommended                                                            no   \n",
       "\n",
       "                                                                     7547  \\\n",
       "title                                        not overly impressed with CX   \n",
       "name                                                          Martin Hill   \n",
       "review_date                                                    2016-11-24   \n",
       "airline                                            Cathay Pacific Airways   \n",
       "verified                                                             True   \n",
       "reviews                   London to Brisbane via Hong Kong. Not overly...   \n",
       "type_of_traveller                                            Solo Leisure   \n",
       "month_flown                                                 November 2016   \n",
       "route                                                  LHR to BNE via HKG   \n",
       "class                                                       Economy Class   \n",
       "seat_comfort                                                            4   \n",
       "staff_service                                                           4   \n",
       "food_&_beverages                                                        4   \n",
       "inflight_entertainment                                                  4   \n",
       "value_for_money                                                         2   \n",
       "overall_rating                                                          2   \n",
       "recommended                                                            no   \n",
       "\n",
       "                                                                     4545  \\\n",
       "title                                refuses to adhere to its obligations   \n",
       "name                                                             D Dupont   \n",
       "review_date                                                    2023-08-30   \n",
       "airline                                                  Turkish Airlines   \n",
       "verified                                                             True   \n",
       "reviews                  Departure in Brussels was delayed, something ...   \n",
       "type_of_traveller                                                Business   \n",
       "month_flown                                                   August 2023   \n",
       "route                                      Vienna to Jakarta via Istanbul   \n",
       "class                                                      Business Class   \n",
       "seat_comfort                                                            3   \n",
       "staff_service                                                           1   \n",
       "food_&_beverages                                                        5   \n",
       "inflight_entertainment                                                  2   \n",
       "value_for_money                                                         2   \n",
       "overall_rating                                                          2   \n",
       "recommended                                                            no   \n",
       "\n",
       "                                                                     1332  \\\n",
       "title                                     rest of our journey stress free   \n",
       "name                                                             E Warden   \n",
       "review_date                                                    2022-07-24   \n",
       "airline                                                     Qatar Airways   \n",
       "verified                                                             True   \n",
       "reviews                   We encountered a problem with the booking of...   \n",
       "type_of_traveller                                          Family Leisure   \n",
       "month_flown                                                     July 2022   \n",
       "route                                                      London to Doha   \n",
       "class                                                       Economy Class   \n",
       "seat_comfort                                                            4   \n",
       "staff_service                                                           3   \n",
       "food_&_beverages                                                        5   \n",
       "inflight_entertainment                                                  5   \n",
       "value_for_money                                                         5   \n",
       "overall_rating                                                         10   \n",
       "recommended                                                           yes   \n",
       "\n",
       "                                                                     4617  \n",
       "title                                           No compensation, no hotel  \n",
       "name                                                               E Mary  \n",
       "review_date                                                    2023-05-04  \n",
       "airline                                                  Turkish Airlines  \n",
       "verified                                                            False  \n",
       "reviews                  The worst experience ever! I got to know that...  \n",
       "type_of_traveller                                                Business  \n",
       "month_flown                                                      May 2023  \n",
       "route                            Dallas Fort-Worth to Naples via Istanbul  \n",
       "class                                                      Business Class  \n",
       "seat_comfort                                                            2  \n",
       "staff_service                                                           1  \n",
       "food_&_beverages                                                        1  \n",
       "inflight_entertainment                                                  2  \n",
       "value_for_money                                                         1  \n",
       "overall_rating                                                          1  \n",
       "recommended                                                            no  "
      ]
     },
     "execution_count": 63,
     "metadata": {},
     "output_type": "execute_result"
    }
   ],
   "source": [
    "df.sample(7).T"
   ]
  },
  {
   "cell_type": "markdown",
   "metadata": {},
   "source": [
    "-----------"
   ]
  },
  {
   "cell_type": "markdown",
   "metadata": {},
   "source": [
    "## ¿ Cuantos comentarios se encuentran verificados ? "
   ]
  },
  {
   "cell_type": "code",
   "execution_count": 64,
   "metadata": {},
   "outputs": [
    {
     "data": {
      "text/plain": [
       "True                                                                                                                                                                                                                                           6216\n",
       "False                                                                                                                                                                                                                                          1881\n",
       "*Unverified*                                                                                                                                                                                                                                      1\n",
       "NotVerified                                                                                                                                                                                                                                       1\n",
       "we do appreciate you bringing this matter to our attention. Please accept my apologies for not having met your expectations; I do hope that we can leave you and your family with a more positive impression on your future flights with us       1\n",
       "Name: verified, dtype: int64"
      ]
     },
     "execution_count": 64,
     "metadata": {},
     "output_type": "execute_result"
    }
   ],
   "source": [
    "## se cuentan valores\n",
    "df['verified'].value_counts()"
   ]
  },
  {
   "cell_type": "code",
   "execution_count": 65,
   "metadata": {},
   "outputs": [
    {
     "data": {
      "text/html": [
       "<div>\n",
       "<style scoped>\n",
       "    .dataframe tbody tr th:only-of-type {\n",
       "        vertical-align: middle;\n",
       "    }\n",
       "\n",
       "    .dataframe tbody tr th {\n",
       "        vertical-align: top;\n",
       "    }\n",
       "\n",
       "    .dataframe thead th {\n",
       "        text-align: right;\n",
       "    }\n",
       "</style>\n",
       "<table border=\"1\" class=\"dataframe\">\n",
       "  <thead>\n",
       "    <tr style=\"text-align: right;\">\n",
       "      <th></th>\n",
       "      <th>title</th>\n",
       "      <th>name</th>\n",
       "      <th>review_date</th>\n",
       "      <th>airline</th>\n",
       "      <th>verified</th>\n",
       "      <th>reviews</th>\n",
       "      <th>type_of_traveller</th>\n",
       "      <th>month_flown</th>\n",
       "      <th>route</th>\n",
       "      <th>class</th>\n",
       "      <th>seat_comfort</th>\n",
       "      <th>staff_service</th>\n",
       "      <th>food_&amp;_beverages</th>\n",
       "      <th>inflight_entertainment</th>\n",
       "      <th>value_for_money</th>\n",
       "      <th>overall_rating</th>\n",
       "      <th>recommended</th>\n",
       "    </tr>\n",
       "  </thead>\n",
       "  <tbody>\n",
       "    <tr>\n",
       "      <th>2225</th>\n",
       "      <td>CSD was professional but friendly</td>\n",
       "      <td>D Webb</td>\n",
       "      <td>2017-11-18</td>\n",
       "      <td>Qatar Airways</td>\n",
       "      <td>*Unverified*</td>\n",
       "      <td>Delhi to London via Doha. The return flight ...</td>\n",
       "      <td>Solo Leisure</td>\n",
       "      <td>November 2017</td>\n",
       "      <td>Kiev to Doha</td>\n",
       "      <td>First Class</td>\n",
       "      <td>5</td>\n",
       "      <td>4</td>\n",
       "      <td>5</td>\n",
       "      <td>4</td>\n",
       "      <td>3</td>\n",
       "      <td>7</td>\n",
       "      <td>yes</td>\n",
       "    </tr>\n",
       "    <tr>\n",
       "      <th>3358</th>\n",
       "      <td>Very disappointed</td>\n",
       "      <td>HY Teo</td>\n",
       "      <td>2019-08-13</td>\n",
       "      <td>Emirates</td>\n",
       "      <td>NotVerified</td>\n",
       "      <td>Singapore to Barcelona via Dubai with Emirat...</td>\n",
       "      <td>Couple Leisure</td>\n",
       "      <td>August 2019</td>\n",
       "      <td>Melbourne to Frankfurt via Dubai</td>\n",
       "      <td>Economy Class</td>\n",
       "      <td>3</td>\n",
       "      <td>3</td>\n",
       "      <td>1</td>\n",
       "      <td>2</td>\n",
       "      <td>3</td>\n",
       "      <td>5</td>\n",
       "      <td>no</td>\n",
       "    </tr>\n",
       "    <tr>\n",
       "      <th>3822</th>\n",
       "      <td>they allocated us to different seats</td>\n",
       "      <td>John Perrins</td>\n",
       "      <td>2017-11-19</td>\n",
       "      <td>Emirates</td>\n",
       "      <td>we do appreciate you bringing this matter to o...</td>\n",
       "      <td>Birmingham to Johannesburg via Dubai. We pai...</td>\n",
       "      <td>Couple Leisure</td>\n",
       "      <td>September 2017</td>\n",
       "      <td>Narita Tokyo to Dubai</td>\n",
       "      <td>Economy Class</td>\n",
       "      <td>2</td>\n",
       "      <td>5</td>\n",
       "      <td>4</td>\n",
       "      <td>4</td>\n",
       "      <td>1</td>\n",
       "      <td>2</td>\n",
       "      <td>no</td>\n",
       "    </tr>\n",
       "  </tbody>\n",
       "</table>\n",
       "</div>"
      ],
      "text/plain": [
       "                                     title          name review_date  \\\n",
       "2225     CSD was professional but friendly        D Webb  2017-11-18   \n",
       "3358                     Very disappointed        HY Teo  2019-08-13   \n",
       "3822  they allocated us to different seats  John Perrins  2017-11-19   \n",
       "\n",
       "            airline                                           verified  \\\n",
       "2225  Qatar Airways                                       *Unverified*   \n",
       "3358       Emirates                                        NotVerified   \n",
       "3822       Emirates  we do appreciate you bringing this matter to o...   \n",
       "\n",
       "                                                reviews type_of_traveller  \\\n",
       "2225    Delhi to London via Doha. The return flight ...      Solo Leisure   \n",
       "3358    Singapore to Barcelona via Dubai with Emirat...    Couple Leisure   \n",
       "3822    Birmingham to Johannesburg via Dubai. We pai...    Couple Leisure   \n",
       "\n",
       "         month_flown                             route          class  \\\n",
       "2225   November 2017                      Kiev to Doha    First Class   \n",
       "3358     August 2019  Melbourne to Frankfurt via Dubai  Economy Class   \n",
       "3822  September 2017             Narita Tokyo to Dubai  Economy Class   \n",
       "\n",
       "      seat_comfort  staff_service  food_&_beverages  inflight_entertainment  \\\n",
       "2225             5              4                 5                       4   \n",
       "3358             3              3                 1                       2   \n",
       "3822             2              5                 4                       4   \n",
       "\n",
       "      value_for_money  overall_rating recommended  \n",
       "2225                3               7         yes  \n",
       "3358                3               5          no  \n",
       "3822                1               2          no  "
      ]
     },
     "execution_count": 65,
     "metadata": {},
     "output_type": "execute_result"
    }
   ],
   "source": [
    "# se revisa que paso con los que no son True o False\n",
    "df.query('verified != \"True\" & verified != \"False\"')"
   ]
  },
  {
   "cell_type": "code",
   "execution_count": 69,
   "metadata": {},
   "outputs": [],
   "source": [
    "conditions = [\n",
    "    df['verified'] == 'True',\n",
    "    df['verified'] == 'False',\n",
    "    df['verified'] == 'NotVerified',\n",
    "    df['verified'] == '*Unverified*']\n",
    "    \n",
    "df['verified_'] = np.select(conditions, ['True', 'False', 'False', 'False'], default= np.nan)"
   ]
  },
  {
   "cell_type": "code",
   "execution_count": 70,
   "metadata": {},
   "outputs": [
    {
     "data": {
      "text/html": [
       "<div>\n",
       "<style scoped>\n",
       "    .dataframe tbody tr th:only-of-type {\n",
       "        vertical-align: middle;\n",
       "    }\n",
       "\n",
       "    .dataframe tbody tr th {\n",
       "        vertical-align: top;\n",
       "    }\n",
       "\n",
       "    .dataframe thead th {\n",
       "        text-align: right;\n",
       "    }\n",
       "</style>\n",
       "<table border=\"1\" class=\"dataframe\">\n",
       "  <thead>\n",
       "    <tr style=\"text-align: right;\">\n",
       "      <th></th>\n",
       "      <th>verified_</th>\n",
       "    </tr>\n",
       "  </thead>\n",
       "  <tbody>\n",
       "    <tr>\n",
       "      <th>True</th>\n",
       "      <td>6216</td>\n",
       "    </tr>\n",
       "    <tr>\n",
       "      <th>False</th>\n",
       "      <td>1883</td>\n",
       "    </tr>\n",
       "    <tr>\n",
       "      <th>nan</th>\n",
       "      <td>1</td>\n",
       "    </tr>\n",
       "  </tbody>\n",
       "</table>\n",
       "</div>"
      ],
      "text/plain": [
       "       verified_\n",
       "True        6216\n",
       "False       1883\n",
       "nan            1"
      ]
     },
     "execution_count": 70,
     "metadata": {},
     "output_type": "execute_result"
    }
   ],
   "source": [
    "df['verified_'].value_counts().to_frame()"
   ]
  },
  {
   "cell_type": "code",
   "execution_count": 71,
   "metadata": {},
   "outputs": [
    {
     "data": {
      "text/html": [
       "<div>\n",
       "<style scoped>\n",
       "    .dataframe tbody tr th:only-of-type {\n",
       "        vertical-align: middle;\n",
       "    }\n",
       "\n",
       "    .dataframe tbody tr th {\n",
       "        vertical-align: top;\n",
       "    }\n",
       "\n",
       "    .dataframe thead th {\n",
       "        text-align: right;\n",
       "    }\n",
       "</style>\n",
       "<table border=\"1\" class=\"dataframe\">\n",
       "  <thead>\n",
       "    <tr style=\"text-align: right;\">\n",
       "      <th></th>\n",
       "      <th>verified_</th>\n",
       "    </tr>\n",
       "  </thead>\n",
       "  <tbody>\n",
       "    <tr>\n",
       "      <th>True</th>\n",
       "      <td>0.77</td>\n",
       "    </tr>\n",
       "    <tr>\n",
       "      <th>False</th>\n",
       "      <td>0.23</td>\n",
       "    </tr>\n",
       "    <tr>\n",
       "      <th>nan</th>\n",
       "      <td>0.00</td>\n",
       "    </tr>\n",
       "  </tbody>\n",
       "</table>\n",
       "</div>"
      ],
      "text/plain": [
       "       verified_\n",
       "True        0.77\n",
       "False       0.23\n",
       "nan         0.00"
      ]
     },
     "execution_count": 71,
     "metadata": {},
     "output_type": "execute_result"
    }
   ],
   "source": [
    "df['verified_'].value_counts(normalize=True).to_frame().round(2)"
   ]
  },
  {
   "cell_type": "markdown",
   "metadata": {},
   "source": [
    "## Respuesta:  \n",
    " \n",
    "Los 3 casos diferentes de True o False en la columna verified fueron revisados, dos de ellos son unverified y not verified por lo cual es facil asumir que estos no han sido verificados, el tercer caso es distinto por lo cual no se asume nada y se da como mismatched.  \n",
    "\n",
    "verified_\n",
    "\n",
    "**True**\t6216 casos\n",
    "\n",
    "**False**\t1883 casos \n",
    "\n",
    "**nan**\t1 casos"
   ]
  },
  {
   "cell_type": "markdown",
   "metadata": {},
   "source": [
    "-----------"
   ]
  },
  {
   "cell_type": "markdown",
   "metadata": {},
   "source": [
    "## Cual es el rango de fechas de los vuelos que se registran en el dataset?"
   ]
  },
  {
   "cell_type": "code",
   "execution_count": 86,
   "metadata": {},
   "outputs": [
    {
     "name": "stdout",
     "output_type": "stream",
     "text": [
      "First date: 2013-03-01 00:00:00\n",
      "Last date: 2024-03-01 00:00:00\n"
     ]
    }
   ],
   "source": [
    "dates = df['month_flown'].str.split(' ', expand=True).copy()\n",
    "dates.columns = ['month', 'year']\n",
    "dates['month'] = dates['month'].map({'January': 1, 'February': 2, 'March': 3, 'April': 4, 'May': 5, 'June': 6, 'July': 7, 'August': 8, 'September': 9, 'October': 10, 'November': 11, 'December': 12})\n",
    "dates['year'] = dates['year'].astype(int)\n",
    "dates['date'] = pd.to_datetime(dates.assign(day=1)[['year', 'month', 'day']])\n",
    "\n",
    "first = dates['date'].min()\n",
    "last = dates['date'].max()\n",
    "\n",
    "print(f'First date: {first}')\n",
    "print(f'Last date: {last}')"
   ]
  },
  {
   "cell_type": "markdown",
   "metadata": {},
   "source": [
    "## Respuesta:  \n",
    "\n",
    "El rango de fechas esta entre Marzo de 2013 y Marzo de 2024"
   ]
  },
  {
   "cell_type": "markdown",
   "metadata": {},
   "source": [
    "----------------"
   ]
  },
  {
   "cell_type": "markdown",
   "metadata": {},
   "source": [
    "## ¿Cuáles aerolíneas registran por lo menos un comentario?"
   ]
  },
  {
   "cell_type": "code",
   "execution_count": 96,
   "metadata": {},
   "outputs": [
    {
     "data": {
      "text/html": [
       "<div>\n",
       "<style scoped>\n",
       "    .dataframe tbody tr th:only-of-type {\n",
       "        vertical-align: middle;\n",
       "    }\n",
       "\n",
       "    .dataframe tbody tr th {\n",
       "        vertical-align: top;\n",
       "    }\n",
       "\n",
       "    .dataframe thead th {\n",
       "        text-align: right;\n",
       "    }\n",
       "</style>\n",
       "<table border=\"1\" class=\"dataframe\">\n",
       "  <thead>\n",
       "    <tr style=\"text-align: right;\">\n",
       "      <th></th>\n",
       "      <th>review</th>\n",
       "    </tr>\n",
       "    <tr>\n",
       "      <th>airline</th>\n",
       "      <th></th>\n",
       "    </tr>\n",
       "  </thead>\n",
       "  <tbody>\n",
       "    <tr>\n",
       "      <th>Turkish Airlines</th>\n",
       "      <td>1685</td>\n",
       "    </tr>\n",
       "    <tr>\n",
       "      <th>Qatar Airways</th>\n",
       "      <td>1624</td>\n",
       "    </tr>\n",
       "    <tr>\n",
       "      <th>Emirates</th>\n",
       "      <td>1350</td>\n",
       "    </tr>\n",
       "    <tr>\n",
       "      <th>Singapore Airlines</th>\n",
       "      <td>972</td>\n",
       "    </tr>\n",
       "    <tr>\n",
       "      <th>Air France</th>\n",
       "      <td>798</td>\n",
       "    </tr>\n",
       "    <tr>\n",
       "      <th>Cathay Pacific Airways</th>\n",
       "      <td>744</td>\n",
       "    </tr>\n",
       "    <tr>\n",
       "      <th>EVA Air</th>\n",
       "      <td>281</td>\n",
       "    </tr>\n",
       "    <tr>\n",
       "      <th>All Nippon Airways</th>\n",
       "      <td>258</td>\n",
       "    </tr>\n",
       "    <tr>\n",
       "      <th>Japan Airlines</th>\n",
       "      <td>201</td>\n",
       "    </tr>\n",
       "    <tr>\n",
       "      <th>Korean Air</th>\n",
       "      <td>187</td>\n",
       "    </tr>\n",
       "  </tbody>\n",
       "</table>\n",
       "</div>"
      ],
      "text/plain": [
       "                        review\n",
       "airline                       \n",
       "Turkish Airlines          1685\n",
       "Qatar Airways             1624\n",
       "Emirates                  1350\n",
       "Singapore Airlines         972\n",
       "Air France                 798\n",
       "Cathay Pacific Airways     744\n",
       "EVA Air                    281\n",
       "All Nippon Airways         258\n",
       "Japan Airlines             201\n",
       "Korean Air                 187"
      ]
     },
     "execution_count": 96,
     "metadata": {},
     "output_type": "execute_result"
    }
   ],
   "source": [
    "df.groupby('airline').size().sort_values(ascending=False).to_frame().rename(columns={0: 'review'})"
   ]
  },
  {
   "cell_type": "markdown",
   "metadata": {},
   "source": [
    "----------------------"
   ]
  },
  {
   "cell_type": "markdown",
   "metadata": {},
   "source": [
    "## ¿Cuál es el promedio de comentarios de cada aerolínea por año?\n",
    "\n",
    "*** la pregunta esta mal planteada, pero se entiende que lo que se quiere buscar es el promedio del rating de cada aerolinea por año, ya que no se puede calcular el promedio de un comentario ya que no es algo numerico, en el mejor de los casos se puede hacer un **conteo** de reseñas o un promedio de calificacion de estas, para utilidad del negocio se procede hacer el promedio de calificacion de cada aerolinea por año. ***"
   ]
  },
  {
   "cell_type": "code",
   "execution_count": 117,
   "metadata": {},
   "outputs": [
    {
     "data": {
      "text/html": [
       "<div>\n",
       "<style scoped>\n",
       "    .dataframe tbody tr th:only-of-type {\n",
       "        vertical-align: middle;\n",
       "    }\n",
       "\n",
       "    .dataframe tbody tr th {\n",
       "        vertical-align: top;\n",
       "    }\n",
       "\n",
       "    .dataframe thead th {\n",
       "        text-align: right;\n",
       "    }\n",
       "</style>\n",
       "<table border=\"1\" class=\"dataframe\">\n",
       "  <thead>\n",
       "    <tr style=\"text-align: right;\">\n",
       "      <th>year</th>\n",
       "      <th>2016</th>\n",
       "      <th>2017</th>\n",
       "      <th>2018</th>\n",
       "      <th>2019</th>\n",
       "      <th>2020</th>\n",
       "      <th>2021</th>\n",
       "      <th>2022</th>\n",
       "      <th>2023</th>\n",
       "      <th>2024</th>\n",
       "    </tr>\n",
       "    <tr>\n",
       "      <th>airline</th>\n",
       "      <th></th>\n",
       "      <th></th>\n",
       "      <th></th>\n",
       "      <th></th>\n",
       "      <th></th>\n",
       "      <th></th>\n",
       "      <th></th>\n",
       "      <th></th>\n",
       "      <th></th>\n",
       "    </tr>\n",
       "  </thead>\n",
       "  <tbody>\n",
       "    <tr>\n",
       "      <th>Korean Air</th>\n",
       "      <td>7.272727</td>\n",
       "      <td>6.733333</td>\n",
       "      <td>5.948718</td>\n",
       "      <td>6.457143</td>\n",
       "      <td>5.900000</td>\n",
       "      <td>5.000000</td>\n",
       "      <td>5.111111</td>\n",
       "      <td>6.909091</td>\n",
       "      <td>8.666667</td>\n",
       "    </tr>\n",
       "    <tr>\n",
       "      <th>Japan Airlines</th>\n",
       "      <td>8.031250</td>\n",
       "      <td>7.142857</td>\n",
       "      <td>6.034483</td>\n",
       "      <td>7.705882</td>\n",
       "      <td>6.307692</td>\n",
       "      <td>7.272727</td>\n",
       "      <td>6.739130</td>\n",
       "      <td>6.857143</td>\n",
       "      <td>8.000000</td>\n",
       "    </tr>\n",
       "    <tr>\n",
       "      <th>Singapore Airlines</th>\n",
       "      <td>7.254717</td>\n",
       "      <td>7.018293</td>\n",
       "      <td>7.143791</td>\n",
       "      <td>6.723810</td>\n",
       "      <td>5.608696</td>\n",
       "      <td>4.357143</td>\n",
       "      <td>5.129630</td>\n",
       "      <td>6.096774</td>\n",
       "      <td>7.333333</td>\n",
       "    </tr>\n",
       "    <tr>\n",
       "      <th>Qatar Airways</th>\n",
       "      <td>7.411348</td>\n",
       "      <td>7.611321</td>\n",
       "      <td>7.164319</td>\n",
       "      <td>6.707113</td>\n",
       "      <td>8.170213</td>\n",
       "      <td>8.243902</td>\n",
       "      <td>6.682171</td>\n",
       "      <td>6.663551</td>\n",
       "      <td>5.966667</td>\n",
       "    </tr>\n",
       "    <tr>\n",
       "      <th>Cathay Pacific Airways</th>\n",
       "      <td>7.153061</td>\n",
       "      <td>7.305882</td>\n",
       "      <td>6.715976</td>\n",
       "      <td>5.126506</td>\n",
       "      <td>3.744186</td>\n",
       "      <td>1.000000</td>\n",
       "      <td>2.400000</td>\n",
       "      <td>5.702703</td>\n",
       "      <td>5.714286</td>\n",
       "    </tr>\n",
       "    <tr>\n",
       "      <th>All Nippon Airways</th>\n",
       "      <td>7.785714</td>\n",
       "      <td>8.500000</td>\n",
       "      <td>8.200000</td>\n",
       "      <td>7.340000</td>\n",
       "      <td>8.583333</td>\n",
       "      <td>8.666667</td>\n",
       "      <td>8.411765</td>\n",
       "      <td>7.717949</td>\n",
       "      <td>5.428571</td>\n",
       "    </tr>\n",
       "    <tr>\n",
       "      <th>Air France</th>\n",
       "      <td>5.507937</td>\n",
       "      <td>5.629630</td>\n",
       "      <td>4.507042</td>\n",
       "      <td>4.593750</td>\n",
       "      <td>4.204082</td>\n",
       "      <td>4.000000</td>\n",
       "      <td>4.176991</td>\n",
       "      <td>4.144068</td>\n",
       "      <td>3.875000</td>\n",
       "    </tr>\n",
       "    <tr>\n",
       "      <th>Emirates</th>\n",
       "      <td>6.171598</td>\n",
       "      <td>5.437736</td>\n",
       "      <td>4.328185</td>\n",
       "      <td>4.514286</td>\n",
       "      <td>3.922330</td>\n",
       "      <td>3.460000</td>\n",
       "      <td>4.024000</td>\n",
       "      <td>3.948718</td>\n",
       "      <td>3.352941</td>\n",
       "    </tr>\n",
       "    <tr>\n",
       "      <th>Turkish Airlines</th>\n",
       "      <td>6.462185</td>\n",
       "      <td>5.595000</td>\n",
       "      <td>4.194915</td>\n",
       "      <td>3.589404</td>\n",
       "      <td>2.493333</td>\n",
       "      <td>2.755208</td>\n",
       "      <td>2.782609</td>\n",
       "      <td>2.721461</td>\n",
       "      <td>2.675676</td>\n",
       "    </tr>\n",
       "    <tr>\n",
       "      <th>EVA Air</th>\n",
       "      <td>7.892857</td>\n",
       "      <td>8.393939</td>\n",
       "      <td>8.112903</td>\n",
       "      <td>6.916667</td>\n",
       "      <td>7.136364</td>\n",
       "      <td>2.200000</td>\n",
       "      <td>4.944444</td>\n",
       "      <td>6.812500</td>\n",
       "      <td>NaN</td>\n",
       "    </tr>\n",
       "  </tbody>\n",
       "</table>\n",
       "</div>"
      ],
      "text/plain": [
       "year                        2016      2017      2018      2019      2020  \\\n",
       "airline                                                                    \n",
       "Korean Air              7.272727  6.733333  5.948718  6.457143  5.900000   \n",
       "Japan Airlines          8.031250  7.142857  6.034483  7.705882  6.307692   \n",
       "Singapore Airlines      7.254717  7.018293  7.143791  6.723810  5.608696   \n",
       "Qatar Airways           7.411348  7.611321  7.164319  6.707113  8.170213   \n",
       "Cathay Pacific Airways  7.153061  7.305882  6.715976  5.126506  3.744186   \n",
       "All Nippon Airways      7.785714  8.500000  8.200000  7.340000  8.583333   \n",
       "Air France              5.507937  5.629630  4.507042  4.593750  4.204082   \n",
       "Emirates                6.171598  5.437736  4.328185  4.514286  3.922330   \n",
       "Turkish Airlines        6.462185  5.595000  4.194915  3.589404  2.493333   \n",
       "EVA Air                 7.892857  8.393939  8.112903  6.916667  7.136364   \n",
       "\n",
       "year                        2021      2022      2023      2024  \n",
       "airline                                                         \n",
       "Korean Air              5.000000  5.111111  6.909091  8.666667  \n",
       "Japan Airlines          7.272727  6.739130  6.857143  8.000000  \n",
       "Singapore Airlines      4.357143  5.129630  6.096774  7.333333  \n",
       "Qatar Airways           8.243902  6.682171  6.663551  5.966667  \n",
       "Cathay Pacific Airways  1.000000  2.400000  5.702703  5.714286  \n",
       "All Nippon Airways      8.666667  8.411765  7.717949  5.428571  \n",
       "Air France              4.000000  4.176991  4.144068  3.875000  \n",
       "Emirates                3.460000  4.024000  3.948718  3.352941  \n",
       "Turkish Airlines        2.755208  2.782609  2.721461  2.675676  \n",
       "EVA Air                 2.200000  4.944444  6.812500       NaN  "
      ]
     },
     "execution_count": 117,
     "metadata": {},
     "output_type": "execute_result"
    }
   ],
   "source": [
    "x = df[['review_date', 'airline', 'overall_rating']].copy()\n",
    "x['review_date'] = pd.to_datetime(x['review_date'])\n",
    "x['year'] = x['review_date'].dt.year.astype(int)\n",
    "\n",
    "x = x.groupby(['year', 'airline'])[['overall_rating']].mean().reset_index().pivot_table(index='airline', columns='year', values='overall_rating').sort_values(2024, ascending=False)\n",
    "x"
   ]
  },
  {
   "cell_type": "markdown",
   "metadata": {},
   "source": [
    "## Respuesta:  \n",
    "\n",
    "En este momento, la aerolinea mas destacada es **Korean Air** con un promedio de 8.6 sobre 10 para el año 2024. La peor calificada en lo que va del año es **Turkish Airlines** con un promedio de 2.67 sobre 10."
   ]
  },
  {
   "cell_type": "markdown",
   "metadata": {},
   "source": [
    "----------------"
   ]
  },
  {
   "cell_type": "markdown",
   "metadata": {},
   "source": [
    "# Segunda Parte: "
   ]
  },
  {
   "cell_type": "markdown",
   "metadata": {},
   "source": [
    "    a. Un gráfico de barras que muestre la distribución de los vuelos a lo largo de los\n",
    "        meses. Esto con el fin de poder identificar en cuales meses se viajan más o menos.\n",
    "\n",
    "    b. Un histograma que muestre “Overall Rating” de las dos aerolíneas con mayor\n",
    "    cantidad de comentarios. Se debe diferenciar por color estas dos compañías.\n",
    "    Gracias a esto se de pronto se puede identificar si alguna de estas dos empresas\n",
    "    tiene una mejor calificación respecto a la otra.\n",
    "\n",
    "    c. Un gráfico tipo torta/pastel que muestre el porcentaje de comentarios de\n",
    "    “Economy Class”, “Business Class” y “Others”, es decir, solo se deben poder\n",
    "    observar en el gráfico 3 categorías.\n",
    "\n",
    "    d. Un gráfico de dispersión que compare “Seat Comfort” y “Value for Money”."
   ]
  },
  {
   "cell_type": "markdown",
   "metadata": {},
   "source": [
    "---------------"
   ]
  },
  {
   "cell_type": "markdown",
   "metadata": {},
   "source": [
    "## a. Un gráfico de barras que muestre la distribución de los vuelos a lo largo de los meses. Esto con el fin de poder identificar en cuales meses se viajan más o menos."
   ]
  },
  {
   "cell_type": "code",
   "execution_count": 130,
   "metadata": {},
   "outputs": [
    {
     "data": {
      "application/vnd.plotly.v1+json": {
       "config": {
        "plotlyServerURL": "https://plot.ly"
       },
       "data": [
        {
         "alignmentgroup": "True",
         "hovertemplate": "month=%{x}<br>Flights=%{y}<extra></extra>",
         "legendgroup": "",
         "marker": {
          "color": "#636efa",
          "pattern": {
           "shape": ""
          }
         },
         "name": "",
         "offsetgroup": "",
         "orientation": "v",
         "showlegend": false,
         "textposition": "auto",
         "type": "bar",
         "x": [
          1,
          2,
          3,
          4,
          5,
          6,
          7,
          8,
          9,
          10,
          11,
          12
         ],
         "xaxis": "x",
         "y": [
          722,
          607,
          674,
          647,
          627,
          558,
          702,
          702,
          687,
          712,
          700,
          762
         ],
         "yaxis": "y"
        }
       ],
       "layout": {
        "barmode": "relative",
        "height": 500,
        "legend": {
         "tracegroupgap": 0
        },
        "template": {
         "data": {
          "bar": [
           {
            "error_x": {
             "color": "#2a3f5f"
            },
            "error_y": {
             "color": "#2a3f5f"
            },
            "marker": {
             "line": {
              "color": "#E5ECF6",
              "width": 0.5
             },
             "pattern": {
              "fillmode": "overlay",
              "size": 10,
              "solidity": 0.2
             }
            },
            "type": "bar"
           }
          ],
          "barpolar": [
           {
            "marker": {
             "line": {
              "color": "#E5ECF6",
              "width": 0.5
             },
             "pattern": {
              "fillmode": "overlay",
              "size": 10,
              "solidity": 0.2
             }
            },
            "type": "barpolar"
           }
          ],
          "carpet": [
           {
            "aaxis": {
             "endlinecolor": "#2a3f5f",
             "gridcolor": "white",
             "linecolor": "white",
             "minorgridcolor": "white",
             "startlinecolor": "#2a3f5f"
            },
            "baxis": {
             "endlinecolor": "#2a3f5f",
             "gridcolor": "white",
             "linecolor": "white",
             "minorgridcolor": "white",
             "startlinecolor": "#2a3f5f"
            },
            "type": "carpet"
           }
          ],
          "choropleth": [
           {
            "colorbar": {
             "outlinewidth": 0,
             "ticks": ""
            },
            "type": "choropleth"
           }
          ],
          "contour": [
           {
            "colorbar": {
             "outlinewidth": 0,
             "ticks": ""
            },
            "colorscale": [
             [
              0,
              "#0d0887"
             ],
             [
              0.1111111111111111,
              "#46039f"
             ],
             [
              0.2222222222222222,
              "#7201a8"
             ],
             [
              0.3333333333333333,
              "#9c179e"
             ],
             [
              0.4444444444444444,
              "#bd3786"
             ],
             [
              0.5555555555555556,
              "#d8576b"
             ],
             [
              0.6666666666666666,
              "#ed7953"
             ],
             [
              0.7777777777777778,
              "#fb9f3a"
             ],
             [
              0.8888888888888888,
              "#fdca26"
             ],
             [
              1,
              "#f0f921"
             ]
            ],
            "type": "contour"
           }
          ],
          "contourcarpet": [
           {
            "colorbar": {
             "outlinewidth": 0,
             "ticks": ""
            },
            "type": "contourcarpet"
           }
          ],
          "heatmap": [
           {
            "colorbar": {
             "outlinewidth": 0,
             "ticks": ""
            },
            "colorscale": [
             [
              0,
              "#0d0887"
             ],
             [
              0.1111111111111111,
              "#46039f"
             ],
             [
              0.2222222222222222,
              "#7201a8"
             ],
             [
              0.3333333333333333,
              "#9c179e"
             ],
             [
              0.4444444444444444,
              "#bd3786"
             ],
             [
              0.5555555555555556,
              "#d8576b"
             ],
             [
              0.6666666666666666,
              "#ed7953"
             ],
             [
              0.7777777777777778,
              "#fb9f3a"
             ],
             [
              0.8888888888888888,
              "#fdca26"
             ],
             [
              1,
              "#f0f921"
             ]
            ],
            "type": "heatmap"
           }
          ],
          "heatmapgl": [
           {
            "colorbar": {
             "outlinewidth": 0,
             "ticks": ""
            },
            "colorscale": [
             [
              0,
              "#0d0887"
             ],
             [
              0.1111111111111111,
              "#46039f"
             ],
             [
              0.2222222222222222,
              "#7201a8"
             ],
             [
              0.3333333333333333,
              "#9c179e"
             ],
             [
              0.4444444444444444,
              "#bd3786"
             ],
             [
              0.5555555555555556,
              "#d8576b"
             ],
             [
              0.6666666666666666,
              "#ed7953"
             ],
             [
              0.7777777777777778,
              "#fb9f3a"
             ],
             [
              0.8888888888888888,
              "#fdca26"
             ],
             [
              1,
              "#f0f921"
             ]
            ],
            "type": "heatmapgl"
           }
          ],
          "histogram": [
           {
            "marker": {
             "pattern": {
              "fillmode": "overlay",
              "size": 10,
              "solidity": 0.2
             }
            },
            "type": "histogram"
           }
          ],
          "histogram2d": [
           {
            "colorbar": {
             "outlinewidth": 0,
             "ticks": ""
            },
            "colorscale": [
             [
              0,
              "#0d0887"
             ],
             [
              0.1111111111111111,
              "#46039f"
             ],
             [
              0.2222222222222222,
              "#7201a8"
             ],
             [
              0.3333333333333333,
              "#9c179e"
             ],
             [
              0.4444444444444444,
              "#bd3786"
             ],
             [
              0.5555555555555556,
              "#d8576b"
             ],
             [
              0.6666666666666666,
              "#ed7953"
             ],
             [
              0.7777777777777778,
              "#fb9f3a"
             ],
             [
              0.8888888888888888,
              "#fdca26"
             ],
             [
              1,
              "#f0f921"
             ]
            ],
            "type": "histogram2d"
           }
          ],
          "histogram2dcontour": [
           {
            "colorbar": {
             "outlinewidth": 0,
             "ticks": ""
            },
            "colorscale": [
             [
              0,
              "#0d0887"
             ],
             [
              0.1111111111111111,
              "#46039f"
             ],
             [
              0.2222222222222222,
              "#7201a8"
             ],
             [
              0.3333333333333333,
              "#9c179e"
             ],
             [
              0.4444444444444444,
              "#bd3786"
             ],
             [
              0.5555555555555556,
              "#d8576b"
             ],
             [
              0.6666666666666666,
              "#ed7953"
             ],
             [
              0.7777777777777778,
              "#fb9f3a"
             ],
             [
              0.8888888888888888,
              "#fdca26"
             ],
             [
              1,
              "#f0f921"
             ]
            ],
            "type": "histogram2dcontour"
           }
          ],
          "mesh3d": [
           {
            "colorbar": {
             "outlinewidth": 0,
             "ticks": ""
            },
            "type": "mesh3d"
           }
          ],
          "parcoords": [
           {
            "line": {
             "colorbar": {
              "outlinewidth": 0,
              "ticks": ""
             }
            },
            "type": "parcoords"
           }
          ],
          "pie": [
           {
            "automargin": true,
            "type": "pie"
           }
          ],
          "scatter": [
           {
            "fillpattern": {
             "fillmode": "overlay",
             "size": 10,
             "solidity": 0.2
            },
            "type": "scatter"
           }
          ],
          "scatter3d": [
           {
            "line": {
             "colorbar": {
              "outlinewidth": 0,
              "ticks": ""
             }
            },
            "marker": {
             "colorbar": {
              "outlinewidth": 0,
              "ticks": ""
             }
            },
            "type": "scatter3d"
           }
          ],
          "scattercarpet": [
           {
            "marker": {
             "colorbar": {
              "outlinewidth": 0,
              "ticks": ""
             }
            },
            "type": "scattercarpet"
           }
          ],
          "scattergeo": [
           {
            "marker": {
             "colorbar": {
              "outlinewidth": 0,
              "ticks": ""
             }
            },
            "type": "scattergeo"
           }
          ],
          "scattergl": [
           {
            "marker": {
             "colorbar": {
              "outlinewidth": 0,
              "ticks": ""
             }
            },
            "type": "scattergl"
           }
          ],
          "scattermapbox": [
           {
            "marker": {
             "colorbar": {
              "outlinewidth": 0,
              "ticks": ""
             }
            },
            "type": "scattermapbox"
           }
          ],
          "scatterpolar": [
           {
            "marker": {
             "colorbar": {
              "outlinewidth": 0,
              "ticks": ""
             }
            },
            "type": "scatterpolar"
           }
          ],
          "scatterpolargl": [
           {
            "marker": {
             "colorbar": {
              "outlinewidth": 0,
              "ticks": ""
             }
            },
            "type": "scatterpolargl"
           }
          ],
          "scatterternary": [
           {
            "marker": {
             "colorbar": {
              "outlinewidth": 0,
              "ticks": ""
             }
            },
            "type": "scatterternary"
           }
          ],
          "surface": [
           {
            "colorbar": {
             "outlinewidth": 0,
             "ticks": ""
            },
            "colorscale": [
             [
              0,
              "#0d0887"
             ],
             [
              0.1111111111111111,
              "#46039f"
             ],
             [
              0.2222222222222222,
              "#7201a8"
             ],
             [
              0.3333333333333333,
              "#9c179e"
             ],
             [
              0.4444444444444444,
              "#bd3786"
             ],
             [
              0.5555555555555556,
              "#d8576b"
             ],
             [
              0.6666666666666666,
              "#ed7953"
             ],
             [
              0.7777777777777778,
              "#fb9f3a"
             ],
             [
              0.8888888888888888,
              "#fdca26"
             ],
             [
              1,
              "#f0f921"
             ]
            ],
            "type": "surface"
           }
          ],
          "table": [
           {
            "cells": {
             "fill": {
              "color": "#EBF0F8"
             },
             "line": {
              "color": "white"
             }
            },
            "header": {
             "fill": {
              "color": "#C8D4E3"
             },
             "line": {
              "color": "white"
             }
            },
            "type": "table"
           }
          ]
         },
         "layout": {
          "annotationdefaults": {
           "arrowcolor": "#2a3f5f",
           "arrowhead": 0,
           "arrowwidth": 1
          },
          "autotypenumbers": "strict",
          "coloraxis": {
           "colorbar": {
            "outlinewidth": 0,
            "ticks": ""
           }
          },
          "colorscale": {
           "diverging": [
            [
             0,
             "#8e0152"
            ],
            [
             0.1,
             "#c51b7d"
            ],
            [
             0.2,
             "#de77ae"
            ],
            [
             0.3,
             "#f1b6da"
            ],
            [
             0.4,
             "#fde0ef"
            ],
            [
             0.5,
             "#f7f7f7"
            ],
            [
             0.6,
             "#e6f5d0"
            ],
            [
             0.7,
             "#b8e186"
            ],
            [
             0.8,
             "#7fbc41"
            ],
            [
             0.9,
             "#4d9221"
            ],
            [
             1,
             "#276419"
            ]
           ],
           "sequential": [
            [
             0,
             "#0d0887"
            ],
            [
             0.1111111111111111,
             "#46039f"
            ],
            [
             0.2222222222222222,
             "#7201a8"
            ],
            [
             0.3333333333333333,
             "#9c179e"
            ],
            [
             0.4444444444444444,
             "#bd3786"
            ],
            [
             0.5555555555555556,
             "#d8576b"
            ],
            [
             0.6666666666666666,
             "#ed7953"
            ],
            [
             0.7777777777777778,
             "#fb9f3a"
            ],
            [
             0.8888888888888888,
             "#fdca26"
            ],
            [
             1,
             "#f0f921"
            ]
           ],
           "sequentialminus": [
            [
             0,
             "#0d0887"
            ],
            [
             0.1111111111111111,
             "#46039f"
            ],
            [
             0.2222222222222222,
             "#7201a8"
            ],
            [
             0.3333333333333333,
             "#9c179e"
            ],
            [
             0.4444444444444444,
             "#bd3786"
            ],
            [
             0.5555555555555556,
             "#d8576b"
            ],
            [
             0.6666666666666666,
             "#ed7953"
            ],
            [
             0.7777777777777778,
             "#fb9f3a"
            ],
            [
             0.8888888888888888,
             "#fdca26"
            ],
            [
             1,
             "#f0f921"
            ]
           ]
          },
          "colorway": [
           "#636efa",
           "#EF553B",
           "#00cc96",
           "#ab63fa",
           "#FFA15A",
           "#19d3f3",
           "#FF6692",
           "#B6E880",
           "#FF97FF",
           "#FECB52"
          ],
          "font": {
           "color": "#2a3f5f"
          },
          "geo": {
           "bgcolor": "white",
           "lakecolor": "white",
           "landcolor": "#E5ECF6",
           "showlakes": true,
           "showland": true,
           "subunitcolor": "white"
          },
          "hoverlabel": {
           "align": "left"
          },
          "hovermode": "closest",
          "mapbox": {
           "style": "light"
          },
          "paper_bgcolor": "white",
          "plot_bgcolor": "#E5ECF6",
          "polar": {
           "angularaxis": {
            "gridcolor": "white",
            "linecolor": "white",
            "ticks": ""
           },
           "bgcolor": "#E5ECF6",
           "radialaxis": {
            "gridcolor": "white",
            "linecolor": "white",
            "ticks": ""
           }
          },
          "scene": {
           "xaxis": {
            "backgroundcolor": "#E5ECF6",
            "gridcolor": "white",
            "gridwidth": 2,
            "linecolor": "white",
            "showbackground": true,
            "ticks": "",
            "zerolinecolor": "white"
           },
           "yaxis": {
            "backgroundcolor": "#E5ECF6",
            "gridcolor": "white",
            "gridwidth": 2,
            "linecolor": "white",
            "showbackground": true,
            "ticks": "",
            "zerolinecolor": "white"
           },
           "zaxis": {
            "backgroundcolor": "#E5ECF6",
            "gridcolor": "white",
            "gridwidth": 2,
            "linecolor": "white",
            "showbackground": true,
            "ticks": "",
            "zerolinecolor": "white"
           }
          },
          "shapedefaults": {
           "line": {
            "color": "#2a3f5f"
           }
          },
          "ternary": {
           "aaxis": {
            "gridcolor": "white",
            "linecolor": "white",
            "ticks": ""
           },
           "baxis": {
            "gridcolor": "white",
            "linecolor": "white",
            "ticks": ""
           },
           "bgcolor": "#E5ECF6",
           "caxis": {
            "gridcolor": "white",
            "linecolor": "white",
            "ticks": ""
           }
          },
          "title": {
           "x": 0.05
          },
          "xaxis": {
           "automargin": true,
           "gridcolor": "white",
           "linecolor": "white",
           "ticks": "",
           "title": {
            "standoff": 15
           },
           "zerolinecolor": "white",
           "zerolinewidth": 2
          },
          "yaxis": {
           "automargin": true,
           "gridcolor": "white",
           "linecolor": "white",
           "ticks": "",
           "title": {
            "standoff": 15
           },
           "zerolinecolor": "white",
           "zerolinewidth": 2
          }
         }
        },
        "title": {
         "text": "Flights per month"
        },
        "width": 900,
        "xaxis": {
         "anchor": "y",
         "domain": [
          0,
          1
         ],
         "title": {
          "text": "month"
         }
        },
        "yaxis": {
         "anchor": "x",
         "domain": [
          0,
          1
         ],
         "range": [
          500,
          800
         ],
         "title": {
          "text": "Flights"
         }
        }
       }
      }
     },
     "metadata": {},
     "output_type": "display_data"
    }
   ],
   "source": [
    "w = dates.groupby('month').size()\n",
    "\n",
    "fig = px.bar(w, x=w.index, y=w.values, labels={'x': 'Month', 'y': 'Flights'}, title='Flights per month')\n",
    "fig.update_layout(width=900, height=500, yaxis = dict( range=[500, 800]))\n",
    "fig.show()"
   ]
  },
  {
   "cell_type": "markdown",
   "metadata": {},
   "source": [
    "## Respuesta:  "
   ]
  }
 ],
 "metadata": {
  "kernelspec": {
   "display_name": "Python 3",
   "language": "python",
   "name": "python3"
  },
  "language_info": {
   "codemirror_mode": {
    "name": "ipython",
    "version": 3
   },
   "file_extension": ".py",
   "mimetype": "text/x-python",
   "name": "python",
   "nbconvert_exporter": "python",
   "pygments_lexer": "ipython3",
   "version": "3.10.12"
  }
 },
 "nbformat": 4,
 "nbformat_minor": 2
}
